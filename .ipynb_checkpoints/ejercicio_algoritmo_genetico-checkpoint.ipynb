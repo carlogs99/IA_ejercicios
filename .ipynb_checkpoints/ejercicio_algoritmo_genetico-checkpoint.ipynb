{
 "cells": [
  {
   "cell_type": "markdown",
   "metadata": {},
   "source": [
    "### Inteligencia Artificial. Tema 2: Metaheurísticas para optimización\n",
    "\n",
    "### Ejercicio 2 - Grupo 2\n",
    "\n",
    "### Implementación de un algoritmos genético \n",
    "\n",
    "\n",
    "José Luis Ruiz Reina - 6 de octubre 2020"
   ]
  },
  {
   "cell_type": "markdown",
   "metadata": {},
   "source": [
    "En este ejercicio veremos la implementación en Python de un algoritmo genético y su aplicación para resolver instancias concretas del problema de la mochila.\n"
   ]
  },
  {
   "cell_type": "code",
   "execution_count": 26,
   "metadata": {},
   "outputs": [],
   "source": [
    "import random"
   ]
  },
  {
   "cell_type": "markdown",
   "metadata": {},
   "source": [
    "Lo que sigue es la definición genérica de un problema de optimización para ser resuelto mediante un algoritmo genético "
   ]
  },
  {
   "cell_type": "code",
   "execution_count": 27,
   "metadata": {},
   "outputs": [],
   "source": [
    "class Problema_Genetico(object):\n",
    "    \"\"\" \n",
    "    Clase para representar un problema para que sea abordado mediante un\n",
    "    algoritmo genético general. Consta de los siguientes atributos:\n",
    "    - genes: lista de posibles genes en un cromosoma\n",
    "    - longitud_individuos: la longitud de los cromosomas\n",
    "    - decodifica: método que recibe el genotipo (cromosoma) y devuelve el\n",
    "      fenotipo (elemento del problema original que el cromosoma representa) \n",
    "    - fitness: método de valoración de los cromosomas (actúa sobre el\n",
    "      genotipo)\n",
    "      \"\"\"\n",
    "\n",
    "    def __init__(self,genes,longitud_individuos,decodifica,fitness):\n",
    "        self.genes = genes\n",
    "        self.longitud_individuos = longitud_individuos\n",
    "        self.decodifica = decodifica\n",
    "        self.fitness = fitness\n"
   ]
  },
  {
   "cell_type": "markdown",
   "metadata": {},
   "source": [
    "#### Ejercicio 1\n",
    "\n",
    "Usando la función `binario_a_decimal` que se incluye a continuación, definir un objeto `cuad_gen` que define la representación genética usada en el problema de encontrar el número entero entre 0 y $2^{10}$ que tiene un menor cuadrado (usando lo descrito en las diapositivas, pág. 30) \n"
   ]
  },
  {
   "cell_type": "code",
   "execution_count": 28,
   "metadata": {},
   "outputs": [],
   "source": [
    "def binario_a_decimal(l):\n",
    "    return sum(x*(2**i) for (i,x) in enumerate(l)) "
   ]
  },
  {
   "cell_type": "code",
   "execution_count": 41,
   "metadata": {},
   "outputs": [],
   "source": [
    "# Solución:\n",
    "\n",
    "class cuad_gen():\n",
    "    \n",
    "    def __init__(self):\n",
    "        self.genes = [0,1]\n",
    "        self.longitud_individuos = 10\n",
    "        \n",
    "    def decodifica(self, x):\n",
    "        return binario_a_decimal(x)\n",
    "    \n",
    "    def fitness(self, x):\n",
    "        return binario_a_decimal(x)**2\n"
   ]
  },
  {
   "cell_type": "markdown",
   "metadata": {},
   "source": [
    "#### Ejercicio 2\n",
    "\n",
    "Completar las partes que faltan en las siguientes funciones, todas ellas auxiliares para definir un algoritmo genético:"
   ]
  },
  {
   "cell_type": "code",
   "execution_count": 39,
   "metadata": {},
   "outputs": [],
   "source": [
    "def poblacion_inicial(problema_genetico, N):\n",
    "    \"\"\"\n",
    "    Dado un problema_genetico y un número natural N,\n",
    "    construye aleatoriamente una población inicial con N indivíduos\n",
    "    \"\"\"\n",
    "    \n",
    "    return [[random.choice(problema_genetico.genes) for i in range(problema_genetico.longitud_individuos)] \n",
    "            for j in range(N)]\n",
    "\n",
    "def cruza(c1, c2):\n",
    "    \"\"\"\n",
    "    Cruce de dos indivíduos c1 y c2\n",
    "    \"\"\"\n",
    "    pos = random.randrange(1,len(c1)-1)\n",
    "    hijo1 = c1[:pos] + c2[pos:]\n",
    "    hijo2 = c2[:pos] + c1[pos:] \n",
    "    return [hijo1, hijo2]\n",
    "\n",
    "def cruza_padres(padres):\n",
    "    \"\"\"\n",
    "    Dado una población de padres, obtiene el resultado de cruzar de dos en dos, \n",
    "    en el orden en el que aparecen\n",
    "    \"\"\"\n",
    "    \n",
    "    hijos = []\n",
    "    for j in range(0,len(padres),2):\n",
    "        hijos.extend(cruza(*padres[j:j+2])) \n",
    "    return hijos\n",
    "\n",
    "\n",
    "def muta(c, prob, genes):\n",
    "    \"\"\"\n",
    "    A partir de un individuo c, se obtiene un nuevo individuo resultado de\n",
    "    mutar (con una probabilidad prob), cada gen de c. La variable genes contiene \n",
    "    la lista de genes posibles. Nótese que si prob es bajo, entonces\n",
    "    es probable que el individuo devuelto sea igual a c\n",
    "    \"\"\"\n",
    "    \n",
    "    cm = list(c) # una copia\n",
    "    for i in range(len(cm)):\n",
    "        if (random.uniform(0,1) < prob):\n",
    "            cm[i] = random.choice(genes)\n",
    "    return cm\n",
    "\n",
    "def muta_individuos(poblacion, prob, genes):\n",
    "    \"\"\"\n",
    "    Obtiene el resultado de mutar cada indivíduo de población, \n",
    "    con probabilidad prob\n",
    "    \"\"\"\n",
    "    \n",
    "    return list(map(lambda x: muta(x,prob,genes), poblacion))"
   ]
  },
  {
   "cell_type": "markdown",
   "metadata": {},
   "source": [
    "#### Ejercicio 3\n",
    "\n",
    "Completar igualmente las siguientes funciones, que definen el metodo de seleccón basado en torneo:\n"
   ]
  },
  {
   "cell_type": "code",
   "execution_count": 31,
   "metadata": {},
   "outputs": [],
   "source": [
    "def seleccion_un_torneo(problema_genetico, poblacion, k, opt):\n",
    "    \"\"\"\n",
    "    Recibe un problema_genetico, una población, un número natural k y\n",
    "    y la función opt (que puede ser max o min, dependiendo si es un problema de \n",
    "    maximización o minimización), y selecciona un individuo de la población, \n",
    "    mediante un torneo de tamaño k\n",
    "    \"\"\"\n",
    "    \n",
    "    participantes = random.sample(poblacion, k)\n",
    "    return opt(participantes)\n",
    "\n",
    "def selecciona_n_torneo(problema_genetico, poblacion, k, opt, n):\n",
    "    \"\"\" \n",
    "    Recibe un problema_genetico, una población, un número natural k y\n",
    "    y la función opt (que puede ser max o min, dependiendo si es un problema de \n",
    "    maximización o minimización), y selecciona n individuos de la población, \n",
    "    mediante n torneos de tamaño k\n",
    "    \"\"\"    \n",
    "    \n",
    "    return [seleccion_un_torneo(problema_genetico, poblacion, k, opt)\n",
    "                                for i in range(n)]\n"
   ]
  },
  {
   "cell_type": "markdown",
   "metadata": {},
   "source": [
    "#### Ejercicio 4\n",
    "\n",
    "La siguiente función `algoritmo genético_v1` implementa en python el primero de los algoritmos genéticos de los dos que se describen en las diapositivas (pg. 47). Sólo queda por implementar la función `nueva_generación_v1`, que a partir de una generación obtiene la siguiente. Se pide implementar esa función."
   ]
  },
  {
   "cell_type": "code",
   "execution_count": 148,
   "metadata": {},
   "outputs": [],
   "source": [
    "def algoritmo_genetico_v1(problema_genetico, ngen, N, prop_cruces, prob_mutar, opt, k_torneo):\n",
    "    \"\"\"\n",
    "    Algoritmo genético que se describe en el tema 2, diapositiva 47. \n",
    "    Devuelve el mejor elemento de la última generación, junto con su valoración.\n",
    "    Recibe como entrada los siguintes argumentos:\n",
    "    - problema_genetico: un objeto de la clase Problema_Genetico, con la representación del\n",
    "     problema de optimización.\n",
    "    - ngen: número de generaciones \n",
    "    - N: número de indivíduos en cada generación\n",
    "    - prop_cruces: proporción de indivíduos de la población que se usan como padres\n",
    "    - prob_mutar: probabilidad de mutación de los genes\n",
    "    - opt: min o max, dependiendo si el problema es de minimización o de maximización\n",
    "    - k_torneo: número de indivíduos que intervienen en cada torneo\n",
    "    \"\"\"\n",
    "    \n",
    "    poblacion = poblacion_inicial(problema_genetico, N)\n",
    "    n_padres = round(N*prop_cruces)\n",
    "    n_padres = (n_padres if n_padres%2==0 else n_padres-1)\n",
    "    n_directos = N-n_padres\n",
    "\n",
    "    for i in range(ngen):\n",
    "        poblacion = nueva_generacion_v1(problema_genetico,poblacion,n_padres,n_directos,prob_mutar,opt,k_torneo)\n",
    "        mejor_cr = opt(poblacion, key = lambda x:problema_genetico.fitness(x))\n",
    "        mejor = problema_genetico.decodifica(mejor_cr)\n",
    "        #imprime_población(problema_genetico, poblacion,i)\n",
    "        #print(\"Media: {0}. Fitness mejor:{1}\".format(media(problema_genetico.fitness,poblacion),\n",
    "        #                                             problema_genetico.fitness(mejor_cr)))\n",
    "        \n",
    "    return (mejor, problema_genetico.fitness(mejor_cr), mejor_cr) \n",
    "\n",
    "def media(fitness, poblacion):\n",
    "    return sum(map(fitness,poblacion))/len(poblacion)\n",
    "\n",
    "def imprime_población(problema_genetico, población,i):\n",
    "    print(\"\\n****************** Generación: {} ********************\".format(i))\n",
    "    for cromosoma in población:\n",
    "        print(\"{} --> {}\".format(cromosoma,problema_genetico.decodifica(cromosoma)))\n",
    "    print(\"\\n\")"
   ]
  },
  {
   "cell_type": "code",
   "execution_count": 149,
   "metadata": {},
   "outputs": [],
   "source": [
    "# Solución:\n",
    "\n",
    "def nueva_generacion_v1(problema_genetico, poblacion, n_padres, n_directos, prob_mutar, opt, k_torneo):\n",
    "        p1 = selecciona_n_torneo(problema_genetico, poblacion, k_torneo, opt, n_directos)\n",
    "        p2 = selecciona_n_torneo(problema_genetico, poblacion, k_torneo, opt, n_padres)\n",
    "        p3 = cruza_padres(p2)\n",
    "        p4 = p1 + p3\n",
    "        return muta_individuos(p4, prob_mutar, problema_genetico.genes)\n",
    "\n"
   ]
  },
  {
   "cell_type": "markdown",
   "metadata": {},
   "source": [
    "#### Ejercicio 5\n",
    "\n",
    "Experimentar y observar con el algoritmo genético anterior (descomentando las líneas comentadas que imprimen la información), cómo evolucionan las generaciones en el problema del cuadrado que se ha representado en el Ejercicio 1"
   ]
  },
  {
   "cell_type": "code",
   "execution_count": 150,
   "metadata": {},
   "outputs": [
    {
     "data": {
      "text/plain": [
       "(80, 6400, [0, 0, 0, 0, 1, 0, 1, 0, 0, 0])"
      ]
     },
     "execution_count": 150,
     "metadata": {},
     "output_type": "execute_result"
    }
   ],
   "source": [
    "pcuad = cuad_gen()\n",
    "\n",
    "algoritmo_genetico_v1(pcuad, ngen=5, N=10, prop_cruces=0.5, prob_mutar=0.1, opt=min, k_torneo=5)"
   ]
  },
  {
   "cell_type": "markdown",
   "metadata": {},
   "source": [
    "## Problema de la mochila"
   ]
  },
  {
   "cell_type": "markdown",
   "metadata": {},
   "source": [
    "#### Ejercicio 6\n",
    "\n",
    "Se dan a continuación tres problemas de la mochila de distinta complejidad. \n",
    "\n",
    "Se pide aplicar el algoritmo genético anterior a cada uno de los problemas, y comprobar los resultados que se obtienen (se incluye la solución óptima de cada uno de ellos, para que sirva de referencia sobre el rendimiento de nuestro algoritmo genético). "
   ]
  },
  {
   "cell_type": "code",
   "execution_count": 151,
   "metadata": {},
   "outputs": [],
   "source": [
    "class mochila_gen():\n",
    "    \n",
    "    def __init__(self, cant_objetos, pesos, valores, peso_max):\n",
    "        self.genes = [0,1]\n",
    "        self.longitud_individuos = cant_objetos\n",
    "        self.pesos = pesos\n",
    "        self.valores = valores\n",
    "        self.peso_max = peso_max\n",
    "        \n",
    "    def decodifica(self, genotipo):\n",
    "        peso_total = 0\n",
    "        valor_total = 0\n",
    "        for i in range(self.longitud_individuos):\n",
    "            if (genotipo[i] == 1):\n",
    "                if ((peso_total + self.pesos[i]) > self.peso_max):\n",
    "                    break\n",
    "                else:\n",
    "                    peso_total += self.pesos[i]\n",
    "                    valor_total += self.valores[i]                \n",
    "        return f\"Valor: {valor_total}, Peso: {peso_total}\"\n",
    "    \n",
    "    def fitness(self, genotipo):\n",
    "        peso_total = 0\n",
    "        valor_total = 0\n",
    "        for i in range(self.longitud_individuos):\n",
    "            if (genotipo[i] == 1):\n",
    "                if ((peso_total + self.pesos[i]) > self.peso_max):\n",
    "                    break\n",
    "                else:\n",
    "                    peso_total += self.pesos[i]\n",
    "                    valor_total += self.valores[i]   \n",
    "        return valor_total"
   ]
  },
  {
   "cell_type": "code",
   "execution_count": 155,
   "metadata": {},
   "outputs": [
    {
     "name": "stdout",
     "output_type": "stream",
     "text": [
      "('Valor: 309, Peso: 165', 309, [1, 1, 1, 1, 0, 1, 1, 1, 1, 1])\n"
     ]
    }
   ],
   "source": [
    "# Problema de la mochila 1:\n",
    "# 10 objetos, peso máximo 165\n",
    "cant_objetos1 = 10\n",
    "pesos1 = [23,31,29,44,53,38,63,85,89,82]\n",
    "valores1 = [92,57,49,68,60,43,67,84,87,72]\n",
    "peso_max1 = 165\n",
    "mochila1 = mochila_gen(cant_objetos1, pesos1, valores1, peso_max1)\n",
    "\n",
    "print(algoritmo_genetico_v1(mochila1, ngen=10, N=50, prop_cruces=0.5, prob_mutar=0.1, opt=max, k_torneo=5))\n",
    "\n",
    "\n",
    "\n",
    "# Solución óptima= [1,1,1,1,0,1,0,0,0,0], con valor 309\n",
    "# ---------------------------------------------------------\n"
   ]
  },
  {
   "cell_type": "code",
   "execution_count": 243,
   "metadata": {},
   "outputs": [
    {
     "name": "stdout",
     "output_type": "stream",
     "text": [
      "('Valor: 1424, Peso: 746', 1424, [0, 1, 1, 0, 1, 1, 0, 0, 1, 1, 1, 1, 1, 1, 1])\n"
     ]
    }
   ],
   "source": [
    "# Problema de la mochila 2:\n",
    "# 15 objetos, peso máximo 750\n",
    "cant_objetos2 = 15\n",
    "pesos2 = [70,73,77,80,82,87,90,94,98,106,110,113,115,118,120]\n",
    "valores2 = [135,139,149,150,156,163,173,184,192,201,210,214,221,229,240]\n",
    "peso_max2 = 750\n",
    "mochila2 = mochila_gen(cant_objetos2, pesos2, valores2, peso_max2)\n",
    "\n",
    "print(algoritmo_genetico_v1(mochila2, ngen=100, N=600, prop_cruces=0.8, prob_mutar=0.1, opt=max, k_torneo=100))\n",
    "\n",
    "# Solución óptima= [1,0,1,0,1,0,1,1,1,0,0,0,0,1,1] con valor 1458\n",
    "# ------------------------------------------------------------"
   ]
  },
  {
   "cell_type": "code",
   "execution_count": 250,
   "metadata": {},
   "outputs": [
    {
     "name": "stdout",
     "output_type": "stream",
     "text": [
      "('Valor: 12907999, Peso: 6375106', 12907999, [1, 1, 1, 1, 1, 1, 1, 1, 0, 1, 1, 1, 1, 1, 1, 1, 1, 1, 1, 1, 1, 1, 1, 1])\n"
     ]
    }
   ],
   "source": [
    "# Problema de la mochila 3:\n",
    "# 24 objetos, peso máximo 6404180\n",
    "cant_objetos3 = 24\n",
    "pesos3 = [382745,799601,909247,729069,467902, 44328,\n",
    "          34610,698150,823460,903959,853665,551830,610856,\n",
    "          670702,488960,951111,323046,446298,931161, 31385,496951,264724,224916,169684]\n",
    "valores3 = [825594,1677009,1676628,1523970, 943972, 97426, 69666,1296457,1679693,1902996,\n",
    "            1844992,1049289,1252836,1319836, 953277,2067538, 675367,\n",
    "            853655,1826027, 65731, 901489, 577243, 466257, 369261]\n",
    "peso_max3 = 6404180\n",
    "mochila3 = mochila_gen(cant_objetos3, pesos3, valores3, peso_max3)\n",
    "\n",
    "print(algoritmo_genetico_v1(mochila3, ngen=10000, N=20, prop_cruces=0.7, prob_mutar=0.1, opt=max, k_torneo=5))\n",
    "\n",
    "# Solución óptima= [1,1,0,1,1,1,0,0,0,1,1,0,1,0,0,1,0,0,0,0,0,1,1,1] con valoración 13549094\n",
    "# --------------------------------------------------------------------"
   ]
  }
 ],
 "metadata": {
  "kernelspec": {
   "display_name": "Python 3 (ipykernel)",
   "language": "python",
   "name": "python3"
  },
  "language_info": {
   "codemirror_mode": {
    "name": "ipython",
    "version": 3
   },
   "file_extension": ".py",
   "mimetype": "text/x-python",
   "name": "python",
   "nbconvert_exporter": "python",
   "pygments_lexer": "ipython3",
   "version": "3.10.6"
  }
 },
 "nbformat": 4,
 "nbformat_minor": 2
}
