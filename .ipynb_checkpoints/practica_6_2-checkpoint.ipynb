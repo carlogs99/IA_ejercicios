{
 "cells": [
  {
   "cell_type": "markdown",
   "id": "d1306eab",
   "metadata": {},
   "source": [
    "### Inteligencia Artificial. Tema 6: Introducción al Aprendizaje Automático\n",
    "\n",
    "### Implementación de un clasificador Naive Bayes\n",
    "\n",
    "José Luis Ruiz Reina - 28 de noviembre 2021"
   ]
  },
  {
   "cell_type": "markdown",
   "id": "26c32852",
   "metadata": {},
   "source": [
    "En este ejercicio implementaremos un clasificador Naive Bayes (suponiendo atributos con valores categóricos), y lo usaremos para predecir el partido (demócrata o republicano) de un congresista USA, a partir de sus votaciones. La descripción del entrenamiento y predicción del modelo Naive Bayes está en el tema 6. "
   ]
  },
  {
   "cell_type": "markdown",
   "id": "0de4a972",
   "metadata": {},
   "source": [
    "#### Conjuntos de datos"
   ]
  },
  {
   "cell_type": "markdown",
   "id": "2ac92b12",
   "metadata": {},
   "source": [
    "Importamos los conjuntos de datos. En primer lugar, los que usan en la explicación del tema 6 (día adecuado para jugar al tenis)."
   ]
  },
  {
   "cell_type": "code",
   "execution_count": 1,
   "id": "283a4d56",
   "metadata": {},
   "outputs": [],
   "source": [
    "from jugar_tenis import X_tenis,y_tenis"
   ]
  },
  {
   "cell_type": "code",
   "execution_count": 2,
   "id": "24d0c01e",
   "metadata": {},
   "outputs": [],
   "source": [
    "import random"
   ]
  },
  {
   "cell_type": "markdown",
   "id": "158cf3d7",
   "metadata": {},
   "source": [
    "La variable `X_tenis` contiene una lista de listas. Cada una de esas listas es un ejemplo del conjunto de datos. En `y_tenis` están los correspondientes valores de clasificación (en el mismo orden).   "
   ]
  },
  {
   "cell_type": "code",
   "execution_count": 3,
   "id": "19a6d564",
   "metadata": {},
   "outputs": [
    {
     "data": {
      "text/plain": [
       "([['Soleado', 'Alta', 'Alta', 'Débil'],\n",
       "  ['Soleado', 'Alta', 'Alta', 'Fuerte'],\n",
       "  ['Nublado', 'Alta', 'Alta', 'Débil'],\n",
       "  ['Lluvia', 'Suave', 'Alta', 'Débil'],\n",
       "  ['Lluvia', 'Baja', 'Normal', 'Débil'],\n",
       "  ['Lluvia', 'Baja', 'Normal', 'Fuerte'],\n",
       "  ['Nublado', 'Baja', 'Normal', 'Fuerte'],\n",
       "  ['Soleado', 'Suave', 'Alta', 'Débil'],\n",
       "  ['Soleado', 'Baja', 'Normal', 'Débil'],\n",
       "  ['Lluvia', 'Suave', 'Normal', 'Débil'],\n",
       "  ['Soleado', 'Suave', 'Normal', 'Fuerte'],\n",
       "  ['Nublado', 'Suave', 'Alta', 'Fuerte'],\n",
       "  ['Nublado', 'Alta', 'Normal', 'Débil'],\n",
       "  ['Lluvia', 'Suave', 'Alta', 'Fuerte']],\n",
       " ['no',\n",
       "  'no',\n",
       "  'si',\n",
       "  'si',\n",
       "  'si',\n",
       "  'no',\n",
       "  'si',\n",
       "  'no',\n",
       "  'si',\n",
       "  'si',\n",
       "  'si',\n",
       "  'si',\n",
       "  'si',\n",
       "  'no'])"
      ]
     },
     "execution_count": 3,
     "metadata": {},
     "output_type": "execute_result"
    }
   ],
   "source": [
    "X_tenis,y_tenis"
   ]
  },
  {
   "cell_type": "markdown",
   "id": "6e56dbec",
   "metadata": {},
   "source": [
    "Vamos a usar también para probar la implementación, un conocido conjunto de datos. Se trata de un conjunto con las 16 votaciones (sobre distintos temas) realizadas a lo largo del año 1984 por 435 congresistas en Estados Unidos, junto con el partido al que pertenecen (republicano o demócrata) \n",
    "\n",
    "Los valores posibles de cada voto son sí (\"s\"), no (\"no\") y presente (\"?\"). El voto \"presente\", en el congreso de Estados Unidos, podríamos asimilarlo al voto en blanco (aunque no es exactamente lo mismo).   "
   ]
  },
  {
   "cell_type": "code",
   "execution_count": 4,
   "id": "bd1636bf",
   "metadata": {},
   "outputs": [],
   "source": [
    "from votos import X_votos,y_votos"
   ]
  },
  {
   "cell_type": "code",
   "execution_count": 5,
   "id": "a03bdacd",
   "metadata": {},
   "outputs": [
    {
     "data": {
      "text/plain": [
       "(['n',\n",
       "  's',\n",
       "  'n',\n",
       "  's',\n",
       "  's',\n",
       "  's',\n",
       "  'n',\n",
       "  'n',\n",
       "  'n',\n",
       "  's',\n",
       "  '?',\n",
       "  's',\n",
       "  's',\n",
       "  's',\n",
       "  'n',\n",
       "  's'],\n",
       " 'republicano')"
      ]
     },
     "execution_count": 5,
     "metadata": {},
     "output_type": "execute_result"
    }
   ],
   "source": [
    "# El primero de los ejemplos:\n",
    "X_votos[0],y_votos[0]"
   ]
  },
  {
   "cell_type": "markdown",
   "id": "742be26f",
   "metadata": {},
   "source": [
    "#### Ejercicio 1"
   ]
  },
  {
   "cell_type": "markdown",
   "id": "92c8d631",
   "metadata": {},
   "source": [
    "Definir una función `prob_prior(clase,y)` que calcula la probabilidad de una clase dada, a partir de un conjunto de datos (para esto, sólo es necesario la lista y de valores de clasificación). "
   ]
  },
  {
   "cell_type": "code",
   "execution_count": 6,
   "id": "5ef2e0dd",
   "metadata": {},
   "outputs": [],
   "source": [
    "# -------   Solución:\n",
    "def prob_prior(clase, y):\n",
    "    return sum([1 for k in y if (k==clase)])/len(y)\n"
   ]
  },
  {
   "cell_type": "code",
   "execution_count": 7,
   "id": "f0022520",
   "metadata": {},
   "outputs": [
    {
     "name": "stdout",
     "output_type": "stream",
     "text": [
      "0.6428571428571429\n",
      "0.6137931034482759\n"
     ]
    }
   ],
   "source": [
    "# Ejemplos:\n",
    "\n",
    "print(prob_prior(\"si\",y_tenis))\n",
    "# 0.6428571428571429\n",
    "\n",
    "print(prob_prior(\"demócrata\",y_votos))\n",
    "# 0.6137931034482759"
   ]
  },
  {
   "cell_type": "markdown",
   "id": "aa099c3a",
   "metadata": {},
   "source": [
    "#### Ejercicio 2\n",
    "\n",
    "Definir una función `prob_cond(atributo,valor,clase,X,y)` que devuelve la estimación de la probabilidad de que un atributo tome un valor, condicionado a que se pertenece a una clase dada. La estimación se obtiene a partir del conjunto de datos X,y.\n",
    "\n",
    "Los atributos los referenciaremos mediante el índice de la columna en la tabla de datos. Por ejemplo, en el conjunto de datos de jugar al tenis, el atributo Cielo es el 0, y el atributo Viento es el 3. "
   ]
  },
  {
   "cell_type": "code",
   "execution_count": 8,
   "id": "96d57645",
   "metadata": {},
   "outputs": [],
   "source": [
    "# ----  Solución:\n",
    "def prob_cond(atributo, valor, clase, X, y):\n",
    "    n_clase = sum([1 for k in y if (k==clase)])\n",
    "    n_atributoyclase = sum([1 for i in range(len(X)) if ((X[i][atributo] == valor) and (y[i] == clase))])\n",
    "    return n_atributoyclase/n_clase\n",
    "\n"
   ]
  },
  {
   "cell_type": "code",
   "execution_count": 9,
   "id": "5b222bef",
   "metadata": {},
   "outputs": [
    {
     "name": "stdout",
     "output_type": "stream",
     "text": [
      "0.2222222222222222\n",
      "0.6\n"
     ]
    }
   ],
   "source": [
    "# Ejemplos:\n",
    "\n",
    "# Probabilidad de Cielo soleado, dado que es un día bueno para jugar al tenis:\n",
    "print(prob_cond(0,\"Soleado\",\"si\",X_tenis,y_tenis))\n",
    "# 0.2222222222222222\n",
    "\n",
    "# Probabilidad de Cielo soleado, dado que es un día bueno para jugar al tenis:\n",
    "print(prob_cond(3,\"Fuerte\",\"no\",X_tenis,y_tenis))\n",
    "# 0.6"
   ]
  },
  {
   "cell_type": "markdown",
   "id": "c5443994",
   "metadata": {},
   "source": [
    "#### Ejercicio 3\n",
    "\n",
    "Para calcular todas las probabilidades a priori y condicionadas, podríamos llamar a las funciones anteriores para todas las combinaciones posibles de atributos, valores y clases. Pero si el conjunto de datos es muy grande, esto sería ineficiente, ya que cada llamada independiente realiza un recorrido por todo el conjunto de datos.\n",
    "\n",
    "Sería aconsejable calcular todas las probabilidades de una única pasada. Se pide definir una función `calcula_probs(X,y)` que devuelva todas las probabilidades estimadas, a partir del conjunto de datos X,y, recorriendo los datos una sóla vez. \n",
    "\n",
    "Devolver el resultado en forma de dos diccionarios:\n",
    "\n",
    "- Un diccionario cuyas claves son las clases y los valores son las probabilidades a priori de cada clase.\n",
    "- Un diccionario cuyas claves son las ternas `(atributo,valor,clase)`y cuyos valores son las correspondientes probabilidades condicionadas. \n"
   ]
  },
  {
   "cell_type": "code",
   "execution_count": 10,
   "id": "11af83c3",
   "metadata": {},
   "outputs": [],
   "source": [
    "# ------ Solución:\n",
    "\n",
    "def calcula_probs(X,y):\n",
    "    d_prior = {}\n",
    "    d_cond = {}\n",
    "    \n",
    "    for c in set(y):\n",
    "        d_prior[c] = prob_prior(c, y)\n",
    "    \n",
    "    for a in range(len(X[0])):\n",
    "        valores = []\n",
    "        for i in range(len(X)):\n",
    "            valores.append(X[i][a])\n",
    "        for v in set(valores):\n",
    "            for c in set(y):\n",
    "                d_cond[(a,v,c)] = prob_cond(a,v,c,X,y)\n",
    "    \n",
    "    return (d_prior, d_cond)\n",
    "            \n"
   ]
  },
  {
   "cell_type": "code",
   "execution_count": 11,
   "id": "c29375a5",
   "metadata": {},
   "outputs": [
    {
     "data": {
      "text/plain": [
       "({'si': 0.6428571428571429, 'no': 0.35714285714285715},\n",
       " {(0, 'Lluvia', 'si'): 0.3333333333333333,\n",
       "  (0, 'Lluvia', 'no'): 0.4,\n",
       "  (0, 'Soleado', 'si'): 0.2222222222222222,\n",
       "  (0, 'Soleado', 'no'): 0.6,\n",
       "  (0, 'Nublado', 'si'): 0.4444444444444444,\n",
       "  (0, 'Nublado', 'no'): 0.0,\n",
       "  (1, 'Suave', 'si'): 0.4444444444444444,\n",
       "  (1, 'Suave', 'no'): 0.4,\n",
       "  (1, 'Alta', 'si'): 0.2222222222222222,\n",
       "  (1, 'Alta', 'no'): 0.4,\n",
       "  (1, 'Baja', 'si'): 0.3333333333333333,\n",
       "  (1, 'Baja', 'no'): 0.2,\n",
       "  (2, 'Alta', 'si'): 0.3333333333333333,\n",
       "  (2, 'Alta', 'no'): 0.8,\n",
       "  (2, 'Normal', 'si'): 0.6666666666666666,\n",
       "  (2, 'Normal', 'no'): 0.2,\n",
       "  (3, 'Fuerte', 'si'): 0.3333333333333333,\n",
       "  (3, 'Fuerte', 'no'): 0.6,\n",
       "  (3, 'Débil', 'si'): 0.6666666666666666,\n",
       "  (3, 'Débil', 'no'): 0.4})"
      ]
     },
     "execution_count": 11,
     "metadata": {},
     "output_type": "execute_result"
    }
   ],
   "source": [
    "# ---- Ejemplos:\n",
    "\n",
    "calcula_probs(X_tenis,y_tenis)\n",
    "\n",
    "#({'no': 0.35714285714285715, 'si': 0.6428571428571429},\n",
    "# {(0, 'Nublado', 'no'): 0.0,\n",
    "#  (0, 'Nublado', 'si'): 0.4444444444444444,\n",
    "#  (0, 'Lluvia', 'no'): 0.4,\n",
    "#  (0, 'Lluvia', 'si'): 0.3333333333333333,\n",
    "#  (0, 'Soleado', 'no'): 0.6,\n",
    "#  (0, 'Soleado', 'si'): 0.2222222222222222,\n",
    "#  (1, 'Baja', 'no'): 0.2,\n",
    "#  (1, 'Baja', 'si'): 0.3333333333333333,\n",
    "#  (1, 'Suave', 'no'): 0.4,\n",
    "#  (1, 'Suave', 'si'): 0.4444444444444444,\n",
    "#  (1, 'Alta', 'no'): 0.4,\n",
    "#  (1, 'Alta', 'si'): 0.2222222222222222,\n",
    "#  (2, 'Normal', 'no'): 0.2,\n",
    "#  (2, 'Normal', 'si'): 0.6666666666666666,\n",
    "#  (2, 'Alta', 'no'): 0.8,\n",
    "#  (2, 'Alta', 'si'): 0.3333333333333333,\n",
    "#  (3, 'Fuerte', 'no'): 0.6,\n",
    "#  (3, 'Fuerte', 'si'): 0.3333333333333333,\n",
    "#  (3, 'Débil', 'no'): 0.4,\n",
    "#  (3, 'Débil', 'si'): 0.6666666666666666})"
   ]
  },
  {
   "cell_type": "markdown",
   "id": "4ae04062",
   "metadata": {},
   "source": [
    "#### Ejercicio 4\n",
    "\n",
    "Una vez que hemos estimado las probabilidades a partir de los datos, vamos a definir una función `predicción_NB(probprior,probcond,ejemplo)` que a partir de las probabilidades calculadas, devuelve la clasificación que el modelo Naive Bayes predice para un ejemplo dado.    "
   ]
  },
  {
   "cell_type": "code",
   "execution_count": 12,
   "id": "de011dfa",
   "metadata": {},
   "outputs": [],
   "source": [
    "# --------- Solución:\n",
    "\n",
    "def predicción_NB(probprior, probcond, ejemplo):\n",
    "    p_post = {}\n",
    "    for c in probprior:\n",
    "        p_post[c] = probprior[c]\n",
    "        for a in range(len(ejemplo)):\n",
    "            p_post[c] = p_post[c] * probcond[(a, ejemplo[a], c)]\n",
    "    return max(p_post, key=p_post.get)\n",
    "\n"
   ]
  },
  {
   "cell_type": "code",
   "execution_count": 13,
   "id": "32cfaa68",
   "metadata": {},
   "outputs": [
    {
     "data": {
      "text/plain": [
       "'no'"
      ]
     },
     "execution_count": 13,
     "metadata": {},
     "output_type": "execute_result"
    }
   ],
   "source": [
    "# ----- Ejemplo:\n",
    "\n",
    "probpriors_tenis,probconds_tenis = calcula_probs(X_tenis,y_tenis)\n",
    "predicción_NB(probpriors_tenis, probconds_tenis, [\"Soleado\",\"Suave\",\"Alta\",\"Fuerte\"])\n",
    "# 'no'"
   ]
  },
  {
   "cell_type": "markdown",
   "id": "b45a4fc3",
   "metadata": {},
   "source": [
    "#### Ejercicio 4\n",
    "\n",
    "Recopilando lo realizado en los ejercicios anteriores, definir una clase `NaiveBayes` con dos métodos:\n",
    "\n",
    "- Un método `entrena` para la estimación de las probabilidades\n",
    "- Un método `predicción` para predecir nuevos ejemplos\n",
    "\n",
    "Estimar las probabilidades usando suavizado. La constante `k` de suavizado debe ser un argumento del constructor (por defecto `k=1`). \n"
   ]
  },
  {
   "cell_type": "code",
   "execution_count": 14,
   "id": "cedace3d",
   "metadata": {},
   "outputs": [],
   "source": [
    "# ----- Solución\n",
    "        \n",
    "    \n",
    "class NaiveBayes:\n",
    "    \n",
    "    def __init__(self, k=1):\n",
    "        self.k = k\n",
    "    \n",
    "    def entrena(self, X, y):\n",
    "        self.probprior, self.probcond = calcula_probs(X, y) \n",
    "    \n",
    "    def predicción(self, ejemplo):\n",
    "        return predicción_NB(self.probprior, self.probcond, ejemplo)\n",
    "    \n",
    "    \n",
    "    "
   ]
  },
  {
   "cell_type": "code",
   "execution_count": 15,
   "id": "13600fa7",
   "metadata": {
    "scrolled": true
   },
   "outputs": [
    {
     "data": {
      "text/plain": [
       "'no'"
      ]
     },
     "execution_count": 15,
     "metadata": {},
     "output_type": "execute_result"
    }
   ],
   "source": [
    "# ----- Ejemplo:\n",
    "\n",
    "nb_tenis=NaiveBayes()\n",
    "nb_tenis.entrena(X_tenis,y_tenis)\n",
    "nb_tenis.predicción([\"Soleado\",\"Suave\",\"Alta\",\"Fuerte\"])\n",
    "# 'no'"
   ]
  },
  {
   "cell_type": "markdown",
   "id": "bcc25d33",
   "metadata": {},
   "source": [
    "#### Ejercicio 5"
   ]
  },
  {
   "cell_type": "markdown",
   "id": "ce488fec",
   "metadata": {},
   "source": [
    "Vamos a aplicar ahora el clasificador Naive Bayes al conjunto de datos de los votos. Pero antes, vamos a separar (aleatoriamente) una parte de los datos para entrenamiento, dejando otra parte para evaluar el rendimiento del clasificador obtenido. \n",
    "\n",
    "Para ello, definir una función `divide_entrenamiento_prueba(X,y,prop_test)`, que devuelve `X_entr`, `y_entr`, `X_test`, `y_test`, resultado de partir `X` e `y`en dos partes, aleatoriamente. El argumento `prop_test` marca la proporción del total de datos que se apartan para test (por defecto 0.2).  Nota: usar `random.shuffle`"
   ]
  },
  {
   "cell_type": "code",
   "execution_count": 16,
   "id": "aaeb6cee",
   "metadata": {},
   "outputs": [],
   "source": [
    "# ---------   Solución:\n",
    "\n",
    "def divide_entrenamiento_prueba(X,y,prop_test=0.2):\n",
    "    n_test = round(len(X)*prop_test)\n",
    "    aux = list(zip(X,y))\n",
    "    random.shuffle(aux)\n",
    "    X_r, y_r = zip(*aux)\n",
    "    X_test = X_r[:n_test]\n",
    "    y_test = y_r[:n_test]\n",
    "    X_entr = X_r[n_test:]\n",
    "    y_entr = y_r[n_test:]\n",
    "    return (X_entr, y_entr, X_test, y_test)\n"
   ]
  },
  {
   "cell_type": "code",
   "execution_count": 36,
   "id": "279100db",
   "metadata": {},
   "outputs": [
    {
     "data": {
      "text/plain": [
       "(435, 348, 87)"
      ]
     },
     "execution_count": 36,
     "metadata": {},
     "output_type": "execute_result"
    }
   ],
   "source": [
    "# ------ Ejemplo:\n",
    "\n",
    "X_votos_entr,y_votos_entr,X_votos_test,y_votos_test=divide_entrenamiento_prueba(X_votos,y_votos)\n",
    "len(X_votos),len(X_votos_entr),len(X_votos_test)\n",
    "# (435, 348, 87)"
   ]
  },
  {
   "cell_type": "markdown",
   "id": "a96e8e62",
   "metadata": {},
   "source": [
    "#### Ejercicio 6\n",
    "\n",
    "Entrenar un clasificador Naive Bayes sobre el conjunto de entrenamiento de los votos, y probar algunas predicciones sobre ejemplos del conjunto de prueba, comparando la predicción con el valor de clasificación que se conoce.\n"
   ]
  },
  {
   "cell_type": "code",
   "execution_count": 37,
   "id": "dce73f45",
   "metadata": {},
   "outputs": [
    {
     "name": "stdout",
     "output_type": "stream",
     "text": [
      "Ejemplo 0. Prediccion: demócrata. Clase real: demócrata.\n",
      "Ejemplo 1. Prediccion: demócrata. Clase real: demócrata.\n",
      "Ejemplo 2. Prediccion: republicano. Clase real: republicano.\n",
      "Ejemplo 3. Prediccion: demócrata. Clase real: demócrata.\n",
      "Ejemplo 4. Prediccion: republicano. Clase real: republicano.\n",
      "Ejemplo 5. Prediccion: republicano. Clase real: republicano.\n",
      "Ejemplo 6. Prediccion: republicano. Clase real: republicano.\n",
      "Ejemplo 7. Prediccion: republicano. Clase real: republicano.\n",
      "Ejemplo 8. Prediccion: republicano. Clase real: republicano.\n",
      "Ejemplo 9. Prediccion: demócrata. Clase real: demócrata.\n"
     ]
    }
   ],
   "source": [
    "# ---- Ejemplo (pueden ser otros resultados, debidoa la aleatoriedad):\n",
    "\n",
    "nb_votos = NaiveBayes()\n",
    "nb_votos.entrena(X_votos_entr, y_votos_entr)\n",
    "for i in range(10):\n",
    "    print(\"Ejemplo {i}. Prediccion: {pred}. Clase real: {real}.\".format(i=i, pred=nb_votos.predicción(X_votos_test[i]), real=y_votos_test[i]))\n",
    "\n",
    "# Ejemplo 0. Predicción: demócrata. Clase real: demócrata.\n",
    "# Ejemplo 10. Predicción: demócrata. Clase real: demócrata.\n",
    "# Ejemplo 20. Predicción: republicano. Clase real: republicano.\n",
    "# Ejemplo 30. Predicción: republicano. Clase real: demócrata.\n",
    "# Ejemplo 40. Predicción: demócrata. Clase real: demócrata.\n",
    "# Ejemplo 50. Predicción: demócrata. Clase real: demócrata.\n",
    "# Ejemplo 60. Predicción: republicano. Clase real: republicano.\n",
    "# Ejemplo 70. Predicción: demócrata. Clase real: demócrata.\n",
    "# Ejemplo 80. Predicción: republicano. Clase real: republicano."
   ]
  },
  {
   "cell_type": "markdown",
   "id": "e94c9007",
   "metadata": {},
   "source": [
    "#### Ejercicio 7\n",
    "\n",
    "Definir una función `rendimiento(clasificador,X,y)`, que devuelve la proporción de aciertos de un clasificador (como los que define la clase NaiveBayes), sobre un conjunto de datos X,y. Calcular el rendimiento del clasificador Naive Bayes aprendido para el conjunto de los votos."
   ]
  },
  {
   "cell_type": "code",
   "execution_count": 38,
   "id": "b12073ec",
   "metadata": {},
   "outputs": [],
   "source": [
    "# ----- Solución:\n",
    "\n",
    "def rendimiento(clasificador, X, y):\n",
    "    aciertos = 0\n",
    "    for i in range(len(X)):\n",
    "        if clasificador.predicción(X[i])==y[i]:\n",
    "            aciertos += 1\n",
    "    return aciertos/len(X)\n"
   ]
  },
  {
   "cell_type": "code",
   "execution_count": 39,
   "id": "ec7c04c7",
   "metadata": {},
   "outputs": [
    {
     "data": {
      "text/plain": [
       "0.8620689655172413"
      ]
     },
     "execution_count": 39,
     "metadata": {},
     "output_type": "execute_result"
    }
   ],
   "source": [
    "# ---Ejemplo (puede salir otro resultado, debido a la aleatoriedad ):\n",
    "\n",
    "rendimiento(nb_votos,X_votos_test,y_votos_test)\n",
    "# 0.8735632183908046"
   ]
  },
  {
   "cell_type": "code",
   "execution_count": null,
   "id": "f48602e3",
   "metadata": {},
   "outputs": [],
   "source": []
  }
 ],
 "metadata": {
  "kernelspec": {
   "display_name": "Python 3 (ipykernel)",
   "language": "python",
   "name": "python3"
  },
  "language_info": {
   "codemirror_mode": {
    "name": "ipython",
    "version": 3
   },
   "file_extension": ".py",
   "mimetype": "text/x-python",
   "name": "python",
   "nbconvert_exporter": "python",
   "pygments_lexer": "ipython3",
   "version": "3.10.6"
  }
 },
 "nbformat": 4,
 "nbformat_minor": 5
}
