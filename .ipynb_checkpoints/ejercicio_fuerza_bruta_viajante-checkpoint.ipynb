{
 "cells": [
  {
   "cell_type": "markdown",
   "metadata": {},
   "source": [
    "### Inteligencia Artificial. Tema 2: Metaheurísticas para optimización\n",
    "\n",
    "### Problema del viajante - Resolución por fuerza bruta\n",
    "\n",
    "José Luis Ruiz Reina - 16 de septiembre 2022"
   ]
  },
  {
   "cell_type": "markdown",
   "metadata": {},
   "source": [
    "El objetivo de este ejercicio preliminar es constatar la dificultad de resolver el problema del viajante por fuerza bruta cuando aumenta el número de ciudades."
   ]
  },
  {
   "cell_type": "code",
   "execution_count": 1,
   "metadata": {},
   "outputs": [],
   "source": [
    "import random, time, math\n",
    "from itertools import permutations"
   ]
  },
  {
   "cell_type": "markdown",
   "metadata": {},
   "source": [
    "Se pide definir una clase Viajante_n, que sirva para definir un problema del viajante generado aleatoriamente con n ciudades. El constructor de la clase recibe un valor $n$ que indicará el número de ciudades y un parámetro $escala$. Las coordenadas $x$ e $y$ de cada ciudad se tomaran aleatoriamente en el rango $[-escala,+escala]$.\n",
    "\n",
    "En concreto, un objeto de esta clase debe tener:\n",
    "\n",
    "* Un atributo `ciudades` con la lista de las ciudades (los números de $1$ a $n$).\n",
    "\n",
    "* Un atributo `coordenadas` que contiene un diccionario cuyas claves son las ciudades (números de $1$ a $n$) y el valor asociado a cada clave es un par $(x,y)$ de coordenadas generado aleatoriamente. \n",
    "\n",
    "* Un método `distancia_circuito` que recibe un lista de ciudades representando un circuito (es decir, un viaje en el que desde cada ciudad se va a la siguiente en la lista, y desde la última a la primera), y devuelve la distancia total recorrida en ese circuito.  \n",
    "\n"
   ]
  },
  {
   "cell_type": "code",
   "execution_count": 2,
   "metadata": {},
   "outputs": [],
   "source": [
    "# Completa el siguiente código\n",
    "\n",
    "class Viajante_n():\n",
    "    \n",
    "    def __init__(self,n,escala):\n",
    "        self.ciudades = list(range(1, n+1))\n",
    "        self.coordenadas = {key:(random.uniform(-escala, escala), random.uniform(-escala, escala)) \n",
    "                            for key in range(1, n+1)}\n",
    "        \n",
    "    def distancia_circuito(self,lc): # lc lista de ciudades (la primera despues de la última)\n",
    "        distancia_calculada = 0\n",
    "        for i in range(len(lc)):\n",
    "            x1 = self.coordenadas[lc[i-1]][0]\n",
    "            y1 = self.coordenadas[lc[i-1]][1]\n",
    "            x2 = self.coordenadas[lc[i]][0]\n",
    "            y2 = self.coordenadas[lc[i]][1]\n",
    "            distancia_entre_c = math.sqrt((x2-x1)**2 + (y2-y1)**2)\n",
    "            distancia_calculada += distancia_entre_c\n",
    "        return distancia_calculada\n",
    "\n",
    "\n",
    "# Recordatorio: Formato para dictionary comprehensions\n",
    "#{key:value for (key,value) in dictonary.items()}"
   ]
  },
  {
   "cell_type": "code",
   "execution_count": 23,
   "metadata": {},
   "outputs": [
    {
     "name": "stdout",
     "output_type": "stream",
     "text": [
      "Ciudades pv5: [1, 2, 3, 4, 5]\n",
      "Coordenadas pv5: {1: (2.888311618756843, -0.6751034071217061), 2: (2.5058262492817924, -1.048181226216434), 3: (-1.6589724125533594, -0.08537566628509463), 4: (-2.0308177153533915, -1.754142589693837), 5: (1.6062916804296163, -0.35395754732319595)}\n",
      "Distancia recorrida circuito [3, 1, 4, 5, 2]: 18.92967714141544\n",
      "Ciudades pv7: [1, 2, 3, 4, 5, 6, 7]\n",
      "Coordenadas pv7: {1: (1.2652529848814051, -3.878317087514546), 2: (-1.4495367297429542, 1.3333639788067266), 3: (1.353351391354738, -4.361046009439347), 4: (-5.537368334945359, -4.117875240561274), 5: (4.847993399954275, -5.294428120148152), 6: (0.809917315092723, 5.815788050862661), 7: (5.274445191017918, 2.10201220780187)}\n",
      "Distancia recorrida circuito [6, 1, 7, 2, 4, 3, 5]: 52.81955975961744\n"
     ]
    }
   ],
   "source": [
    "# Algunos ejemplos (tener en cuenta que hay una componente aleatoria y \n",
    "#  no tiene por qué salir siempre lo mismo): \n",
    "\n",
    "\n",
    "pv5=Viajante_n(5,3)\n",
    "print(\"Ciudades pv5: {}\".format(pv5.ciudades))\n",
    "print(\"Coordenadas pv5: {}\".format(pv5.coordenadas))      \n",
    "circuito5=[3, 1, 4, 5, 2]\n",
    "print(\"Distancia recorrida circuito {}: {}\".format(circuito5, pv5.distancia_circuito(circuito5)))\n",
    "\n",
    "# Resultado:\n",
    "\n",
    "\n",
    "# Ciudades pv5: [1, 2, 3, 4, 5]\n",
    "# Coordenadas pv5: {1: (0.9933341119772914, -1.3142527442924534), 2: (-2.534978816160301, -0.4348823719914323), 3: (2.9237711389309746, 2.5503047663212124), 4: (-2.3038610315148067, 0.2863670972692458), 5: (-2.6807503499258694, 2.66066145309415)}\n",
    "# Distancia recorrida circuito [3, 1, 4, 5, 2]: 19.70972943031935\n",
    "\n",
    "\n",
    "\n",
    "# ------------------------------------------\n",
    "\n",
    "\n",
    "pv7=Viajante_n(7,6)\n",
    "print(\"Ciudades pv7: {}\".format(pv7.ciudades))\n",
    "print(\"Coordenadas pv7: {}\".format(pv7.coordenadas))      \n",
    "circuito7=[6,1,7,2,4,3,5]\n",
    "print(\"Distancia recorrida circuito {}: {}\".format(circuito7, pv7.distancia_circuito(circuito7)))\n",
    "\n",
    "\n",
    "\n",
    "# Resultado:\n",
    "\n",
    "# Ciudades pv7: [1, 2, 3, 4, 5, 6, 7]\n",
    "# Coordenadas pv7: {1: (-4.101506952514783, 2.8132013889243552), 2: (5.850710983895281, 5.122936570240684), 3: (-0.5878950106358758, -1.5103890561568427), 4: (2.906093090298592, 5.110176944095176), 5: (5.58644208048911, 1.2848246079736683), 6: (1.1422345987613527, -5.370749751267727), 7: (4.769985114498658, 5.249400227724447)}\n",
    "# Distancia recorrida circuito [6, 1, 7, 2, 4, 3, 5]: 45.218967297846184\n"
   ]
  },
  {
   "cell_type": "markdown",
   "metadata": {},
   "source": [
    "Piensa ahora en un método \"sencillo\" para resolver el problema del viajante y trata de implementarlo mediante una función `optimización_viajante(pv)`. La función debe devolver el mejor circuito y la distancia del mismo. \n",
    "\n",
    "Aplícalo para resolver distintas instancias de problemas del viajante (generadas como objetos de la clase anterior) y ve aumentando el número de ciudades para ver cómo se comporta tu método. Saca tus propias conclusiones.  \n",
    "\n",
    "Nota: para definir la función puede ser útil usar la función `permutations` del módulo `itertools` que se ha importado más arriba. "
   ]
  },
  {
   "cell_type": "code",
   "execution_count": 27,
   "metadata": {},
   "outputs": [
    {
     "name": "stdout",
     "output_type": "stream",
     "text": [
      "El mejor circuito es (1, 2, 4, 3, 5) y mide 11.43316558854072.\n",
      "El metodo de fuerza bruta tardo 0.0007143020629882812 segundos para 5 ciudades.\n"
     ]
    },
    {
     "data": {
      "text/plain": [
       "((1, 2, 4, 3, 5), 11.43316558854072)"
      ]
     },
     "execution_count": 27,
     "metadata": {},
     "output_type": "execute_result"
    }
   ],
   "source": [
    "def optimización_viajante(pv):\n",
    "    t_ini = time.time()\n",
    "    minima_distancia = float('inf')\n",
    "    minimo_circuito = []\n",
    "    for k in permutations(pv.ciudades):\n",
    "        if (pv.distancia_circuito(k) < minima_distancia):\n",
    "            minima_distancia = pv.distancia_circuito(k)\n",
    "            minimo_circuito = k\n",
    "    t_tot = time.time() - t_ini\n",
    "    print(f\"El mejor circuito es {minimo_circuito} y mide {minima_distancia}.\")\n",
    "    print(f\"El metodo de fuerza bruta tardo {t_tot} segundos para {len(pv.ciudades)} ciudades.\")\n",
    "    return minimo_circuito, minima_distancia\n",
    "    \n",
    "\n",
    "\n",
    "# Algunos ejemplos:\n",
    "\n",
    "optimización_viajante(pv5)\n",
    "\n",
    "# Resultado: ((1, 2, 4, 5, 3), 16.723133150725506)"
   ]
  },
  {
   "cell_type": "code",
   "execution_count": 28,
   "metadata": {},
   "outputs": [
    {
     "name": "stdout",
     "output_type": "stream",
     "text": [
      "El mejor circuito es (1, 3, 5, 7, 6, 2, 4) y mide 35.96403369172809.\n",
      "El metodo de fuerza bruta tardo 0.05412745475769043 segundos para 7 ciudades.\n"
     ]
    },
    {
     "data": {
      "text/plain": [
       "((1, 3, 5, 7, 6, 2, 4), 35.96403369172809)"
      ]
     },
     "execution_count": 28,
     "metadata": {},
     "output_type": "execute_result"
    }
   ],
   "source": [
    "optimización_viajante(pv7)\n",
    "\n",
    "# Resultado:  ((1, 3, 6, 5, 2, 7, 4), 31.983405737842844)"
   ]
  },
  {
   "cell_type": "code",
   "execution_count": 29,
   "metadata": {},
   "outputs": [
    {
     "name": "stdout",
     "output_type": "stream",
     "text": [
      "El mejor circuito es (2, 5, 3, 10, 7, 4, 8, 6, 9, 1) y mide 18.43607383280176.\n",
      "El metodo de fuerza bruta tardo 38.25274968147278 segundos para 10 ciudades.\n"
     ]
    },
    {
     "data": {
      "text/plain": [
       "((2, 5, 3, 10, 7, 4, 8, 6, 9, 1), 18.43607383280176)"
      ]
     },
     "execution_count": 29,
     "metadata": {},
     "output_type": "execute_result"
    }
   ],
   "source": [
    "pv10=Viajante_n(10,3)\n",
    "optimización_viajante(pv10)\n",
    "\n",
    "# El mejor circuito es (2, 5, 3, 10, 7, 4, 8, 6, 9, 1) y mide 18.43607383280176.\n",
    "# El metodo de fuerza bruta tardo 38.25274968147278 segundos para 10 ciudades.\n"
   ]
  }
 ],
 "metadata": {
  "kernelspec": {
   "display_name": "Python 3 (ipykernel)",
   "language": "python",
   "name": "python3"
  },
  "language_info": {
   "codemirror_mode": {
    "name": "ipython",
    "version": 3
   },
   "file_extension": ".py",
   "mimetype": "text/x-python",
   "name": "python",
   "nbconvert_exporter": "python",
   "pygments_lexer": "ipython3",
   "version": "3.10.6"
  }
 },
 "nbformat": 4,
 "nbformat_minor": 2
}
